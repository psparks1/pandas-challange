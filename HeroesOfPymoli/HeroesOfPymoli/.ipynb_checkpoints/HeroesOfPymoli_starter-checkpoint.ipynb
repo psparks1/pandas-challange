{
 "cells": [
  {
   "cell_type": "markdown",
   "metadata": {},
   "source": [
    "### Note\n",
    "* Instructions have been included for each segment. You do not have to follow them exactly, but they are included to help you think through the steps."
   ]
  },
  {
   "cell_type": "code",
   "execution_count": 157,
   "metadata": {},
   "outputs": [],
   "source": [
    "# Dependencies and Setup\n",
    "import pandas as pd\n",
    "\n",
    "# File to Load (Remember to Change These)\n",
    "file_to_load = \"Resources/purchase_data.csv\"\n",
    "\n",
    "# Read Purchasing File and store into Pandas data frame\n",
    "purchase_data = pd.read_csv(file_to_load)"
   ]
  },
  {
   "cell_type": "markdown",
   "metadata": {},
   "source": [
    "## Player Count"
   ]
  },
  {
   "cell_type": "markdown",
   "metadata": {},
   "source": [
    "* Display the total number of players\n"
   ]
  },
  {
   "cell_type": "code",
   "execution_count": 3,
   "metadata": {},
   "outputs": [
    {
     "data": {
      "text/plain": [
       "576"
      ]
     },
     "execution_count": 3,
     "metadata": {},
     "output_type": "execute_result"
    }
   ],
   "source": [
    "#Get number of players\n",
    "len(pd.unique(purchase_data[\"SN\"]))"
   ]
  },
  {
   "cell_type": "markdown",
   "metadata": {},
   "source": [
    "## Purchasing Analysis (Total)"
   ]
  },
  {
   "cell_type": "markdown",
   "metadata": {},
   "source": [
    "* Run basic calculations to obtain number of unique items, average price, etc.\n",
    "\n",
    "\n",
    "* Create a summary data frame to hold the results\n",
    "\n",
    "\n",
    "* Optional: give the displayed data cleaner formatting\n",
    "\n",
    "\n",
    "* Display the summary data frame\n"
   ]
  },
  {
   "cell_type": "code",
   "execution_count": 23,
   "metadata": {
    "scrolled": true
   },
   "outputs": [
    {
     "name": "stdout",
     "output_type": "stream",
     "text": [
      "3.050987179487176\n",
      "2379.7699999999973\n"
     ]
    },
    {
     "data": {
      "text/html": [
       "<div>\n",
       "<style scoped>\n",
       "    .dataframe tbody tr th:only-of-type {\n",
       "        vertical-align: middle;\n",
       "    }\n",
       "\n",
       "    .dataframe tbody tr th {\n",
       "        vertical-align: top;\n",
       "    }\n",
       "\n",
       "    .dataframe thead th {\n",
       "        text-align: right;\n",
       "    }\n",
       "</style>\n",
       "<table border=\"1\" class=\"dataframe\">\n",
       "  <thead>\n",
       "    <tr style=\"text-align: right;\">\n",
       "      <th></th>\n",
       "      <th>Purchases</th>\n",
       "      <th>Number of Unique Items</th>\n",
       "      <th>Average Price</th>\n",
       "      <th>Number of Purchases</th>\n",
       "      <th>Total  Revanue</th>\n",
       "    </tr>\n",
       "  </thead>\n",
       "  <tbody>\n",
       "    <tr>\n",
       "      <th>0</th>\n",
       "      <td>780</td>\n",
       "      <td>780</td>\n",
       "      <td>3.050987</td>\n",
       "      <td>179</td>\n",
       "      <td>2379.77</td>\n",
       "    </tr>\n",
       "  </tbody>\n",
       "</table>\n",
       "</div>"
      ],
      "text/plain": [
       "   Purchases  Number of Unique Items  Average Price  Number of Purchases  \\\n",
       "0        780                     780       3.050987                  179   \n",
       "\n",
       "   Total  Revanue  \n",
       "0         2379.77  "
      ]
     },
     "execution_count": 23,
     "metadata": {},
     "output_type": "execute_result"
    }
   ],
   "source": [
    "#Obtaing summary data\n",
    "numpurchases=len(purchase_data[\"SN\"])\n",
    "nitimes=len(pd.unique(purchase_data[\"Item ID\"]))\n",
    "avgprice=purchase_data[\"Price\"].mean()\n",
    "Rev=numpurchases*avgprice\n",
    "\n",
    "pursumdf=pd.DataFrame(data={\"Purchases\":[numpurchases],\"Number of Unique Items\":[numpurchases],\"Average Price\":[avgprice],\"Number of Purchases\":[nitimes],\"Total  Revanue\":[Rev]})\n",
    "\n",
    "\n",
    "pursumdf.head()"
   ]
  },
  {
   "cell_type": "markdown",
   "metadata": {},
   "source": [
    "## Gender Demographics"
   ]
  },
  {
   "cell_type": "markdown",
   "metadata": {},
   "source": [
    "* Percentage and Count of Male Players\n",
    "\n",
    "\n",
    "* Percentage and Count of Female Players\n",
    "\n",
    "\n",
    "* Percentage and Count of Other / Non-Disclosed\n",
    "\n",
    "\n"
   ]
  },
  {
   "cell_type": "code",
   "execution_count": 43,
   "metadata": {},
   "outputs": [
    {
     "data": {
      "text/html": [
       "<div>\n",
       "<style scoped>\n",
       "    .dataframe tbody tr th:only-of-type {\n",
       "        vertical-align: middle;\n",
       "    }\n",
       "\n",
       "    .dataframe tbody tr th {\n",
       "        vertical-align: top;\n",
       "    }\n",
       "\n",
       "    .dataframe thead th {\n",
       "        text-align: right;\n",
       "    }\n",
       "</style>\n",
       "<table border=\"1\" class=\"dataframe\">\n",
       "  <thead>\n",
       "    <tr style=\"text-align: right;\">\n",
       "      <th></th>\n",
       "      <th>Gender</th>\n",
       "      <th>Number</th>\n",
       "      <th>Percent</th>\n",
       "    </tr>\n",
       "  </thead>\n",
       "  <tbody>\n",
       "    <tr>\n",
       "      <th>0</th>\n",
       "      <td>Male</td>\n",
       "      <td>484</td>\n",
       "      <td>0.840278</td>\n",
       "    </tr>\n",
       "    <tr>\n",
       "      <th>1</th>\n",
       "      <td>Female</td>\n",
       "      <td>81</td>\n",
       "      <td>0.140625</td>\n",
       "    </tr>\n",
       "    <tr>\n",
       "      <th>2</th>\n",
       "      <td>Other</td>\n",
       "      <td>11</td>\n",
       "      <td>0.019097</td>\n",
       "    </tr>\n",
       "  </tbody>\n",
       "</table>\n",
       "</div>"
      ],
      "text/plain": [
       "   Gender  Number   Percent\n",
       "0    Male     484  0.840278\n",
       "1  Female      81  0.140625\n",
       "2   Other      11  0.019097"
      ]
     },
     "execution_count": 43,
     "metadata": {},
     "output_type": "execute_result"
    }
   ],
   "source": [
    "#creating datasets by gender\n",
    "males_df=purchase_data.loc[purchase_data.Gender=='Male']\n",
    "females_df=purchase_data.loc[purchase_data.Gender=='Female']\n",
    "other_df=purchase_data.loc[purchase_data.Gender=='Other / Non-Disclosed']\n",
    "\n",
    "#Calculating number of genders\n",
    "c\n",
    "females=len(pd.unique(females_df[\"SN\"]))\n",
    "other=len(pd.unique(other_df[\"SN\"]))\n",
    "#percent by gender\n",
    "mp=males/len(pd.unique(purchase_data[\"SN\"]))\n",
    "fp=females/len(pd.unique(purchase_data[\"SN\"]))\n",
    "op=other/len(pd.unique(purchase_data[\"SN\"]))\n",
    "\n",
    "gendersum=pd.DataFrame(data={\"Gender\":[\"Male\",\"Female\",\"Other\"],\"Number\":[males,females,other],\"Percent\":[mp,fp,op]})\n",
    "\n",
    "gendersum.head()"
   ]
  },
  {
   "cell_type": "markdown",
   "metadata": {},
   "source": [
    "\n",
    "## Purchasing Analysis (Gender)"
   ]
  },
  {
   "cell_type": "markdown",
   "metadata": {},
   "source": [
    "* Run basic calculations to obtain purchase count, avg. purchase price, avg. purchase total per person etc. by gender\n",
    "\n",
    "\n",
    "\n",
    "\n",
    "* Create a summary data frame to hold the results\n",
    "\n",
    "\n",
    "* Optional: give the displayed data cleaner formatting\n",
    "\n",
    "\n",
    "* Display the summary data frame"
   ]
  },
  {
   "cell_type": "code",
   "execution_count": 52,
   "metadata": {},
   "outputs": [
    {
     "data": {
      "text/html": [
       "<div>\n",
       "<style scoped>\n",
       "    .dataframe tbody tr th:only-of-type {\n",
       "        vertical-align: middle;\n",
       "    }\n",
       "\n",
       "    .dataframe tbody tr th {\n",
       "        vertical-align: top;\n",
       "    }\n",
       "\n",
       "    .dataframe thead th {\n",
       "        text-align: right;\n",
       "    }\n",
       "</style>\n",
       "<table border=\"1\" class=\"dataframe\">\n",
       "  <thead>\n",
       "    <tr style=\"text-align: right;\">\n",
       "      <th></th>\n",
       "      <th>Gender</th>\n",
       "      <th>Purchase Count</th>\n",
       "      <th>Average Purchase Price</th>\n",
       "      <th>Total Purchase Value</th>\n",
       "      <th>Avg  Total Purchase by Person</th>\n",
       "    </tr>\n",
       "  </thead>\n",
       "  <tbody>\n",
       "    <tr>\n",
       "      <th>0</th>\n",
       "      <td>Male</td>\n",
       "      <td>652</td>\n",
       "      <td>3.02</td>\n",
       "      <td>1969.04</td>\n",
       "      <td>4.07</td>\n",
       "    </tr>\n",
       "    <tr>\n",
       "      <th>1</th>\n",
       "      <td>Female</td>\n",
       "      <td>113</td>\n",
       "      <td>3.20</td>\n",
       "      <td>361.60</td>\n",
       "      <td>4.46</td>\n",
       "    </tr>\n",
       "    <tr>\n",
       "      <th>2</th>\n",
       "      <td>Other</td>\n",
       "      <td>15</td>\n",
       "      <td>3.35</td>\n",
       "      <td>45.30</td>\n",
       "      <td>4.12</td>\n",
       "    </tr>\n",
       "  </tbody>\n",
       "</table>\n",
       "</div>"
      ],
      "text/plain": [
       "   Gender  Purchase Count  Average Purchase Price  Total Purchase Value  \\\n",
       "0    Male             652                    3.02               1969.04   \n",
       "1  Female             113                    3.20                361.60   \n",
       "2   Other              15                    3.35                 45.30   \n",
       "\n",
       "   Avg  Total Purchase by Person  \n",
       "0                           4.07  \n",
       "1                           4.46  \n",
       "2                           4.12  "
      ]
     },
     "execution_count": 52,
     "metadata": {},
     "output_type": "execute_result"
    }
   ],
   "source": [
    "#data for males\n",
    "mcount=len(males_df[\"SN\"])\n",
    "mavgprice=round(males_df[\"Price\"].mean(),2)\n",
    "mRev=len(males_df[\"SN\"])*mavgprice\n",
    "mAtpp=round(mRev/males,2)\n",
    "\n",
    "#data for females\n",
    "fcount=len(females_df[\"SN\"])\n",
    "favgprice=round(females_df[\"Price\"].mean(),2)\n",
    "fRev=len(females_df[\"SN\"])*favgprice\n",
    "fAtpp=round(fRev/females,2)\n",
    "\n",
    "#data for others\n",
    "ocount=len(other_df[\"SN\"])\n",
    "oavgprice=round(other_df[\"Price\"].mean(),2)\n",
    "oRev=len(other_df[\"SN\"])*mavgprice\n",
    "oAtpp=round(oRev/other,2)\n",
    "\n",
    "\n",
    "gendersum=pd.DataFrame(data={\"Gender\":[\"Male\",\"Female\",\"Other\"],\"Purchase Count\":[mcount,fcount,ocount],\"Average Purchase Price\":[mavgprice,favgprice,oavgprice],\"Total Purchase Value\":[mRev,fRev,oRev],\"Avg  Total Purchase by Person\":[mAtpp,fAtpp,oAtpp]})\n",
    "gendersum.head(3)"
   ]
  },
  {
   "cell_type": "markdown",
   "metadata": {},
   "source": [
    "## Age Demographics"
   ]
  },
  {
   "cell_type": "markdown",
   "metadata": {},
   "source": [
    "* Establish bins for ages\n",
    "\n",
    "\n",
    "* Categorize the existing players using the age bins. Hint: use pd.cut()\n",
    "\n",
    "\n",
    "* Calculate the numbers and percentages by age group\n",
    "\n",
    "\n",
    "* Create a summary data frame to hold the results\n",
    "\n",
    "\n",
    "* Optional: round the percentage column to two decimal points\n",
    "\n",
    "\n",
    "* Display Age Demographics Table\n"
   ]
  },
  {
   "cell_type": "code",
   "execution_count": 77,
   "metadata": {},
   "outputs": [
    {
     "data": {
      "text/html": [
       "<div>\n",
       "<style scoped>\n",
       "    .dataframe tbody tr th:only-of-type {\n",
       "        vertical-align: middle;\n",
       "    }\n",
       "\n",
       "    .dataframe tbody tr th {\n",
       "        vertical-align: top;\n",
       "    }\n",
       "\n",
       "    .dataframe thead th {\n",
       "        text-align: right;\n",
       "    }\n",
       "</style>\n",
       "<table border=\"1\" class=\"dataframe\">\n",
       "  <thead>\n",
       "    <tr style=\"text-align: right;\">\n",
       "      <th></th>\n",
       "      <th>Age_Group</th>\n",
       "      <th>Total Count</th>\n",
       "      <th>Percent of Players</th>\n",
       "    </tr>\n",
       "  </thead>\n",
       "  <tbody>\n",
       "    <tr>\n",
       "      <th>0</th>\n",
       "      <td>&lt;10</td>\n",
       "      <td>17</td>\n",
       "      <td>0.029514</td>\n",
       "    </tr>\n",
       "    <tr>\n",
       "      <th>1</th>\n",
       "      <td>10-14</td>\n",
       "      <td>22</td>\n",
       "      <td>0.038194</td>\n",
       "    </tr>\n",
       "    <tr>\n",
       "      <th>2</th>\n",
       "      <td>15-19</td>\n",
       "      <td>107</td>\n",
       "      <td>0.185764</td>\n",
       "    </tr>\n",
       "    <tr>\n",
       "      <th>3</th>\n",
       "      <td>20-24</td>\n",
       "      <td>258</td>\n",
       "      <td>0.447917</td>\n",
       "    </tr>\n",
       "    <tr>\n",
       "      <th>4</th>\n",
       "      <td>25-29</td>\n",
       "      <td>77</td>\n",
       "      <td>0.133681</td>\n",
       "    </tr>\n",
       "    <tr>\n",
       "      <th>5</th>\n",
       "      <td>30-34</td>\n",
       "      <td>52</td>\n",
       "      <td>0.090278</td>\n",
       "    </tr>\n",
       "    <tr>\n",
       "      <th>6</th>\n",
       "      <td>35-39</td>\n",
       "      <td>31</td>\n",
       "      <td>0.053819</td>\n",
       "    </tr>\n",
       "    <tr>\n",
       "      <th>7</th>\n",
       "      <td>40+</td>\n",
       "      <td>12</td>\n",
       "      <td>0.020833</td>\n",
       "    </tr>\n",
       "  </tbody>\n",
       "</table>\n",
       "</div>"
      ],
      "text/plain": [
       "  Age_Group  Total Count  Percent of Players\n",
       "0       <10           17            0.029514\n",
       "1     10-14           22            0.038194\n",
       "2     15-19          107            0.185764\n",
       "3     20-24          258            0.447917\n",
       "4     25-29           77            0.133681\n",
       "5     30-34           52            0.090278\n",
       "6     35-39           31            0.053819\n",
       "7       40+           12            0.020833"
      ]
     },
     "execution_count": 77,
     "metadata": {},
     "output_type": "execute_result"
    }
   ],
   "source": [
    "#creaing bins based off age\n",
    "bins=[0,9,14,19,24,29,34,39,200]\n",
    "group_names=[\"<10\",\"10-14\",\"15-19\",\"20-24\",\"25-29\",\"30-34\",\"35-39\",\"40+\"]\n",
    "\n",
    "purchase_data[\"Age_Group\"] = pd.cut(purchase_data[\"Age\"], bins, labels=group_names, include_lowest=True)\n",
    "\n",
    "#dataframes for each agegroup\n",
    "a1=purchase_data.loc[purchase_data.Age_Group=='<10']\n",
    "a2=purchase_data.loc[purchase_data.Age_Group=='10-14']\n",
    "a3=purchase_data.loc[purchase_data.Age_Group=='15-19']\n",
    "a4=purchase_data.loc[purchase_data.Age_Group=='20-24']\n",
    "a5=purchase_data.loc[purchase_data.Age_Group=='25-29']\n",
    "a6=purchase_data.loc[purchase_data.Age_Group=='30-34']\n",
    "a7=purchase_data.loc[purchase_data.Age_Group=='35-39']\n",
    "a8=purchase_data.loc[purchase_data.Age_Group=='40+']\n",
    "\n",
    "\n",
    "#lengh for each age group\n",
    "a1l=len(pd.unique(a1[\"SN\"]))\n",
    "a2l=len(pd.unique(a2[\"SN\"]))\n",
    "a3l=len(pd.unique(a3[\"SN\"]))\n",
    "a4l=len(pd.unique(a4[\"SN\"]))\n",
    "a5l=len(pd.unique(a5[\"SN\"]))\n",
    "a6l=len(pd.unique(a6[\"SN\"]))\n",
    "a7l=len(pd.unique(a7[\"SN\"]))\n",
    "a8l=len(pd.unique(a8[\"SN\"]))\n",
    "\n",
    "agesummary=pd.DataFrame(data={\"Age_Group\":group_names,\"Total Count\":[a1l,a2l,a3l,a4l,a5l,a6l,a7l,a8l],\"Percent of Players\":[a1l/len(pd.unique(purchase_data[\"SN\"])),a2l/len(pd.unique(purchase_data[\"SN\"])),a3l/len(pd.unique(purchase_data[\"SN\"])),a4l/len(pd.unique(purchase_data[\"SN\"])),a5l/len(pd.unique(purchase_data[\"SN\"])),a6l/len(pd.unique(purchase_data[\"SN\"])),a7l/len(pd.unique(purchase_data[\"SN\"])),a8l/len(pd.unique(purchase_data[\"SN\"]))]})\n",
    "\n",
    "agesummary.head(8)"
   ]
  },
  {
   "cell_type": "markdown",
   "metadata": {},
   "source": [
    "## Purchasing Analysis (Age)"
   ]
  },
  {
   "cell_type": "markdown",
   "metadata": {},
   "source": [
    "* Bin the purchase_data data frame by age\n",
    "\n",
    "\n",
    "* Run basic calculations to obtain purchase count, avg. purchase price, avg. purchase total per person etc. in the table below\n",
    "\n",
    "\n",
    "* Create a summary data frame to hold the results\n",
    "\n",
    "\n",
    "* Optional: give the displayed data cleaner formatting\n",
    "\n",
    "\n",
    "* Display the summary data frame"
   ]
  },
  {
   "cell_type": "code",
   "execution_count": 91,
   "metadata": {},
   "outputs": [
    {
     "data": {
      "text/html": [
       "<div>\n",
       "<style scoped>\n",
       "    .dataframe tbody tr th:only-of-type {\n",
       "        vertical-align: middle;\n",
       "    }\n",
       "\n",
       "    .dataframe tbody tr th {\n",
       "        vertical-align: top;\n",
       "    }\n",
       "\n",
       "    .dataframe thead th {\n",
       "        text-align: right;\n",
       "    }\n",
       "</style>\n",
       "<table border=\"1\" class=\"dataframe\">\n",
       "  <thead>\n",
       "    <tr style=\"text-align: right;\">\n",
       "      <th></th>\n",
       "      <th>Age_Group</th>\n",
       "      <th>Purchase Count</th>\n",
       "      <th>Average Purchase Price $s</th>\n",
       "      <th>Tottal Purchase Value $s</th>\n",
       "      <th>Avg Total Purchase per Person $s</th>\n",
       "    </tr>\n",
       "  </thead>\n",
       "  <tbody>\n",
       "    <tr>\n",
       "      <th>0</th>\n",
       "      <td>&lt;10</td>\n",
       "      <td>23</td>\n",
       "      <td>3.35</td>\n",
       "      <td>77.05</td>\n",
       "      <td>4.53</td>\n",
       "    </tr>\n",
       "    <tr>\n",
       "      <th>1</th>\n",
       "      <td>10-14</td>\n",
       "      <td>28</td>\n",
       "      <td>2.96</td>\n",
       "      <td>82.88</td>\n",
       "      <td>3.77</td>\n",
       "    </tr>\n",
       "    <tr>\n",
       "      <th>2</th>\n",
       "      <td>15-19</td>\n",
       "      <td>136</td>\n",
       "      <td>3.04</td>\n",
       "      <td>413.44</td>\n",
       "      <td>3.86</td>\n",
       "    </tr>\n",
       "    <tr>\n",
       "      <th>3</th>\n",
       "      <td>20-24</td>\n",
       "      <td>365</td>\n",
       "      <td>3.05</td>\n",
       "      <td>1113.25</td>\n",
       "      <td>4.31</td>\n",
       "    </tr>\n",
       "    <tr>\n",
       "      <th>4</th>\n",
       "      <td>25-29</td>\n",
       "      <td>101</td>\n",
       "      <td>2.90</td>\n",
       "      <td>292.90</td>\n",
       "      <td>3.80</td>\n",
       "    </tr>\n",
       "    <tr>\n",
       "      <th>5</th>\n",
       "      <td>30-34</td>\n",
       "      <td>73</td>\n",
       "      <td>2.93</td>\n",
       "      <td>221.92</td>\n",
       "      <td>4.27</td>\n",
       "    </tr>\n",
       "    <tr>\n",
       "      <th>6</th>\n",
       "      <td>35-39</td>\n",
       "      <td>41</td>\n",
       "      <td>3.60</td>\n",
       "      <td>147.60</td>\n",
       "      <td>4.76</td>\n",
       "    </tr>\n",
       "    <tr>\n",
       "      <th>7</th>\n",
       "      <td>40+</td>\n",
       "      <td>13</td>\n",
       "      <td>2.94</td>\n",
       "      <td>38.22</td>\n",
       "      <td>3.19</td>\n",
       "    </tr>\n",
       "  </tbody>\n",
       "</table>\n",
       "</div>"
      ],
      "text/plain": [
       "  Age_Group  Purchase Count  Average Purchase Price $s  \\\n",
       "0       <10              23                       3.35   \n",
       "1     10-14              28                       2.96   \n",
       "2     15-19             136                       3.04   \n",
       "3     20-24             365                       3.05   \n",
       "4     25-29             101                       2.90   \n",
       "5     30-34              73                       2.93   \n",
       "6     35-39              41                       3.60   \n",
       "7       40+              13                       2.94   \n",
       "\n",
       "   Tottal Purchase Value $s  Avg Total Purchase per Person $s  \n",
       "0                     77.05                              4.53  \n",
       "1                     82.88                              3.77  \n",
       "2                    413.44                              3.86  \n",
       "3                   1113.25                              4.31  \n",
       "4                    292.90                              3.80  \n",
       "5                    221.92                              4.27  \n",
       "6                    147.60                              4.76  \n",
       "7                     38.22                              3.19  "
      ]
     },
     "execution_count": 91,
     "metadata": {},
     "output_type": "execute_result"
    }
   ],
   "source": [
    "#data  by group\n",
    "a1count=len(a1[\"SN\"])\n",
    "a1avgprice=round(a1[\"Price\"].mean(),2)\n",
    "a1Rev=len(a1[\"SN\"])*a1avgprice\n",
    "a1Atpp=round(a1Rev/a1l,2)\n",
    "\n",
    "a2count=len(a2[\"SN\"])\n",
    "a2avgprice=round(a2[\"Price\"].mean(),2)\n",
    "a2Rev=len(a2[\"SN\"])*a2avgprice\n",
    "a2Atpp=round(a2Rev/a2l,2)\n",
    "\n",
    "a3count=len(a3[\"SN\"])\n",
    "a3avgprice=round(a3[\"Price\"].mean(),2)\n",
    "a3Rev=len(a3[\"SN\"])*a3avgprice\n",
    "a3Atpp=round(a3Rev/a3l,2)\n",
    "\n",
    "a4count=len(a4[\"SN\"])\n",
    "a4avgprice=round(a4[\"Price\"].mean(),2)\n",
    "a4Rev=len(a4[\"SN\"])*a4avgprice\n",
    "a4Atpp=round(a4Rev/a4l,2)\n",
    "\n",
    "a5count=len(a5[\"SN\"])\n",
    "a5avgprice=round(a5[\"Price\"].mean(),2)\n",
    "a5Rev=len(a5[\"SN\"])*a5avgprice\n",
    "a5Atpp=round(a5Rev/a5l,2)\n",
    "\n",
    "a6count=len(a6[\"SN\"])\n",
    "a6avgprice=round(a6[\"Price\"].mean(),2)\n",
    "a6Rev=len(a6[\"SN\"])*a3avgprice\n",
    "a6Atpp=round(a6Rev/a6l,2)\n",
    "\n",
    "a7count=len(a7[\"SN\"])\n",
    "a7avgprice=round(a7[\"Price\"].mean(),2)\n",
    "a7Rev=len(a7[\"SN\"])*a7avgprice\n",
    "a7Atpp=round(a7Rev/a7l,2)\n",
    "\n",
    "a8count=len(a8[\"SN\"])\n",
    "a8avgprice=round(a8[\"Price\"].mean(),2)\n",
    "a8Rev=len(a8[\"SN\"])*a8avgprice\n",
    "a8Atpp=round(a8Rev/a8l,2)\n",
    "\n",
    "agepurchsummary=pd.DataFrame(data={\"Age_Group\":group_names,\"Purchase Count\":[a1count,a2count,a3count,a4count,a5count,a6count,a7count,a8count],\"Average Purchase Price $s\":[a1avgprice,a2avgprice,a3avgprice,a4avgprice,a5avgprice,a6avgprice,a7avgprice,a8avgprice],\"Tottal Purchase Value $s\":[a1Rev,a2Rev,a3Rev,a4Rev,a5Rev,a6Rev,a7Rev,a8Rev],\"Avg Total Purchase per Person $s\":[a1Atpp,a2Atpp,a3Atpp,a4Atpp,a5Atpp,a6Atpp,a7Atpp,a8Atpp]})\n",
    "agepurchsummary.head(8)                                                "
   ]
  },
  {
   "cell_type": "markdown",
   "metadata": {},
   "source": [
    "## Top Spenders"
   ]
  },
  {
   "cell_type": "markdown",
   "metadata": {},
   "source": [
    "* Run basic calculations to obtain the results in the table below\n",
    "\n",
    "\n",
    "* Create a summary data frame to hold the results\n",
    "\n",
    "\n",
    "* Sort the total purchase value column in descending order\n",
    "\n",
    "\n",
    "* Optional: give the displayed data cleaner formatting\n",
    "\n",
    "\n",
    "* Display a preview of the summary data frame\n",
    "\n"
   ]
  },
  {
   "cell_type": "code",
   "execution_count": 110,
   "metadata": {},
   "outputs": [
    {
     "data": {
      "text/html": [
       "<div>\n",
       "<style scoped>\n",
       "    .dataframe tbody tr th:only-of-type {\n",
       "        vertical-align: middle;\n",
       "    }\n",
       "\n",
       "    .dataframe tbody tr th {\n",
       "        vertical-align: top;\n",
       "    }\n",
       "\n",
       "    .dataframe thead th {\n",
       "        text-align: right;\n",
       "    }\n",
       "</style>\n",
       "<table border=\"1\" class=\"dataframe\">\n",
       "  <thead>\n",
       "    <tr style=\"text-align: right;\">\n",
       "      <th></th>\n",
       "      <th>SN</th>\n",
       "      <th>Total Purchace Amount $s</th>\n",
       "      <th>Numver of Purchases</th>\n",
       "      <th>Average Purchase $s</th>\n",
       "    </tr>\n",
       "  </thead>\n",
       "  <tbody>\n",
       "    <tr>\n",
       "      <th>360</th>\n",
       "      <td>Lisosia93</td>\n",
       "      <td>18.96</td>\n",
       "      <td>5</td>\n",
       "      <td>3.792</td>\n",
       "    </tr>\n",
       "    <tr>\n",
       "      <th>246</th>\n",
       "      <td>Idastidru52</td>\n",
       "      <td>15.45</td>\n",
       "      <td>5</td>\n",
       "      <td>3.090</td>\n",
       "    </tr>\n",
       "    <tr>\n",
       "      <th>106</th>\n",
       "      <td>Chamjask73</td>\n",
       "      <td>13.83</td>\n",
       "      <td>5</td>\n",
       "      <td>2.766</td>\n",
       "    </tr>\n",
       "    <tr>\n",
       "      <th>275</th>\n",
       "      <td>Iral74</td>\n",
       "      <td>13.62</td>\n",
       "      <td>5</td>\n",
       "      <td>2.724</td>\n",
       "    </tr>\n",
       "    <tr>\n",
       "      <th>281</th>\n",
       "      <td>Iskadarya95</td>\n",
       "      <td>13.10</td>\n",
       "      <td>5</td>\n",
       "      <td>2.620</td>\n",
       "    </tr>\n",
       "  </tbody>\n",
       "</table>\n",
       "</div>"
      ],
      "text/plain": [
       "              SN  Total Purchace Amount $s  Numver of Purchases  \\\n",
       "360    Lisosia93                     18.96                    5   \n",
       "246  Idastidru52                     15.45                    5   \n",
       "106   Chamjask73                     13.83                    5   \n",
       "275       Iral74                     13.62                    5   \n",
       "281  Iskadarya95                     13.10                    5   \n",
       "\n",
       "     Average Purchase $s  \n",
       "360                3.792  \n",
       "246                3.090  \n",
       "106                2.766  \n",
       "275                2.724  \n",
       "281                2.620  "
      ]
     },
     "execution_count": 110,
     "metadata": {},
     "output_type": "execute_result"
    }
   ],
   "source": [
    "#adds topether individual purchses by sn\n",
    "topfinder=purchase_data[[\"SN\",\"Price\"]]\n",
    "topfinder2=topfinder.groupby(\"SN\").Price.sum().reset_index()\n",
    "#gets the otop five sopendders then finds number of of orders for each\n",
    "topfinder3=topfinder2.nlargest(5,\"Price\")\n",
    "l1=len(purchase_data.loc[purchase_data.SN=='Lisosia93'])\n",
    "l2=len(purchase_data.loc[purchase_data.SN=='Lisosia93'])\n",
    "l3=len(purchase_data.loc[purchase_data.SN=='Lisosia93'])\n",
    "l4=len(purchase_data.loc[purchase_data.SN=='Lisosia93'])\n",
    "l5=len(purchase_data.loc[purchase_data.SN=='Lisosia93'])\n",
    "numberofpurch=[l1,l2,l3,l4,l5]\n",
    "#setting las few variables\n",
    "topfinder4=topfinder3.rename({\"Price\":\"Total Purchace Amount $s\"},axis=\"columns\")\n",
    "topfinder4[\"Number of Purchases\"]=numberofpurch\n",
    "topfinder4[\"Average Purchase $s\"]=topfinder3[\"Price\"]/numberofpurch\n",
    "\n",
    "\n",
    "topfinder4.head()"
   ]
  },
  {
   "cell_type": "markdown",
   "metadata": {},
   "source": [
    "## Most Popular Items"
   ]
  },
  {
   "cell_type": "markdown",
   "metadata": {},
   "source": [
    "* Retrieve the Item ID, Item Name, and Item Price columns\n",
    "\n",
    "\n",
    "* Group by Item ID and Item Name. Perform calculations to obtain purchase count, average item price, and total purchase value\n",
    "\n",
    "\n",
    "* Create a summary data frame to hold the results\n",
    "\n",
    "\n",
    "* Sort the purchase count column in descending order\n",
    "\n",
    "\n",
    "* Optional: give the displayed data cleaner formatting\n",
    "\n",
    "\n",
    "* Display a preview of the summary data frame\n",
    "\n"
   ]
  },
  {
   "cell_type": "code",
   "execution_count": 173,
   "metadata": {},
   "outputs": [
    {
     "name": "stdout",
     "output_type": "stream",
     "text": [
      "   Item ID                                     Item Name  \\\n",
      "0       82                                       Nirvana   \n",
      "1       92                                  Final Critic   \n",
      "2      108     Extraction, Quickblade Of Trembling Hands   \n",
      "3      132                                    Persuasion   \n",
      "4      178  Oathbreaker, Last Hope of the Breaking Storm   \n",
      "\n",
      "   Total Purchace Amount $s  Number of Purchases  Average Price  \n",
      "0                     44.10                   13       3.392308  \n",
      "1                     59.99                   12       4.999167  \n",
      "2                     31.77                    9       3.530000  \n",
      "3                     28.99                    9       3.221111  \n",
      "4                     50.76                    9       5.640000  \n"
     ]
    }
   ],
   "source": [
    "#renaming a column that caused issues\n",
    "purchase_data.rename(index={5: \"Iem Name\"})\n",
    "#most of this istthe same as above\n",
    "top5=purchase_data[\"Item ID\"].value_counts()[:5].index.tolist()\n",
    "\n",
    "topitem1=purchase_data[purchase_data[\"Item ID\"].isin(top5)]\n",
    "\n",
    "\n",
    "countlist=[]\n",
    "#more efficient/general way get number.  of purchases\n",
    "for item in top5:\n",
    "    count=len(purchase_data.loc[lambda purchase_data: purchase_data[\"Item ID\"]==item])\n",
    "    countlist.append(count)\n",
    "\n",
    "\n",
    "topitem2=topitem1[[\"Item Name\",\"Item ID\",\"Price\"]]\n",
    "topitem3=topitem2.groupby([\"Item ID\",\"Item Name\"]).Price.sum().reset_index()\n",
    "\n",
    "topitem4=topitem3.rename({\"Price\":\"Total Purchace Amount $s\"},axis=\"columns\")\n",
    "topitem4[\"Number of Purchases\"]=countlist\n",
    "topitem4[\"Average Price\"]=topitem4[\"Total Purchace Amount $s\"]/countlist\n",
    "print(topitem4)"
   ]
  },
  {
   "cell_type": "markdown",
   "metadata": {},
   "source": [
    "## Most Profitable Items"
   ]
  },
  {
   "cell_type": "markdown",
   "metadata": {},
   "source": [
    "* Sort the above table by total purchase value in descending order\n",
    "\n",
    "\n",
    "* Optional: give the displayed data cleaner formatting\n",
    "\n",
    "\n",
    "* Display a preview of the data frame\n",
    "\n"
   ]
  },
  {
   "cell_type": "code",
   "execution_count": 179,
   "metadata": {
    "scrolled": true
   },
   "outputs": [
    {
     "name": "stdout",
     "output_type": "stream",
     "text": [
      "   Item ID                                     Item Name  \\\n",
      "0       82                                       Nirvana   \n",
      "1       92                                  Final Critic   \n",
      "2      108     Extraction, Quickblade Of Trembling Hands   \n",
      "3      132                                    Persuasion   \n",
      "4      178  Oathbreaker, Last Hope of the Breaking Storm   \n",
      "\n",
      "   Total Purchace Amount $s  Number of Purchases  Average Price  \n",
      "0                     44.10                   13       3.392308  \n",
      "1                     59.99                   12       4.999167  \n",
      "2                     31.77                    9       3.530000  \n",
      "3                     28.99                    9       3.221111  \n",
      "4                     50.76                    9       5.640000  \n"
     ]
    }
   ],
   "source": [
    "#mostly same as above\n",
    "profititem1=purchase_data.groupby([\"Item ID\",\"Item Name\"]).Price.sum().reset_index()\n",
    "profititem2=profititem1.nlargest(5,\"Price\")\n",
    "\n",
    "countlist=[]\n",
    "for item in profititem2[\"Item ID\"]:\n",
    "    count=len(purchase_data.loc[lambda purchase_data: purchase_data[\"Item ID\"]==item])\n",
    "    countlist.append(count)\n",
    "\n",
    "    \n",
    "profitem3=profititem2.rename({\"Price\":\"Total Purchace Amount $s\"},axis=\"columns\")\n",
    "profitem3[\"Number of Purchases\"]=countlist\n",
    "profitem3[\"Average Price\"]=topitem4[\"Total Purchace Amount $s\"]/countlist\n",
    "print(topitem4)"
   ]
  },
  {
   "cell_type": "code",
   "execution_count": null,
   "metadata": {},
   "outputs": [],
   "source": []
  }
 ],
 "metadata": {
  "anaconda-cloud": {},
  "kernel_info": {
   "name": "python3"
  },
  "kernelspec": {
   "display_name": "Python 3",
   "language": "python",
   "name": "python3"
  },
  "language_info": {
   "codemirror_mode": {
    "name": "ipython",
    "version": 3
   },
   "file_extension": ".py",
   "mimetype": "text/x-python",
   "name": "python",
   "nbconvert_exporter": "python",
   "pygments_lexer": "ipython3",
   "version": "3.8.5"
  },
  "latex_envs": {
   "LaTeX_envs_menu_present": true,
   "autoclose": false,
   "autocomplete": true,
   "bibliofile": "biblio.bib",
   "cite_by": "apalike",
   "current_citInitial": 1,
   "eqLabelWithNumbers": true,
   "eqNumInitial": 1,
   "hotkeys": {
    "equation": "Ctrl-E",
    "itemize": "Ctrl-I"
   },
   "labels_anchors": false,
   "latex_user_defs": false,
   "report_style_numbering": false,
   "user_envs_cfg": false
  },
  "nteract": {
   "version": "0.2.0"
  }
 },
 "nbformat": 4,
 "nbformat_minor": 4
}
